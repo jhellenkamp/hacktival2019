{
 "cells": [
  {
   "cell_type": "code",
   "execution_count": null,
   "metadata": {
    "ExecuteTime": {
     "end_time": "2019-05-11T15:37:49.027209Z",
     "start_time": "2019-05-11T15:36:55.270519Z"
    },
    "deletable": false,
    "editable": false,
    "run_control": {
     "frozen": true
    }
   },
   "outputs": [],
   "source": [
    "!pip3 install --upgrade -e git+https://github.com/twintproject/twint.git@origin/master#egg=twint"
   ]
  },
  {
   "cell_type": "code",
   "execution_count": null,
   "metadata": {
    "ExecuteTime": {
     "end_time": "2019-05-11T15:37:51.438161Z",
     "start_time": "2019-05-11T15:37:49.032278Z"
    },
    "deletable": false,
    "editable": false,
    "run_control": {
     "frozen": true
    }
   },
   "outputs": [],
   "source": [
    "!pip3 install networkx"
   ]
  },
  {
   "cell_type": "code",
   "execution_count": null,
   "metadata": {
    "ExecuteTime": {
     "end_time": "2019-05-11T15:37:55.422249Z",
     "start_time": "2019-05-11T15:37:51.456444Z"
    },
    "deletable": false,
    "editable": false,
    "run_control": {
     "frozen": true
    }
   },
   "outputs": [],
   "source": [
    "!pip3 install --upgrade requests"
   ]
  },
  {
   "cell_type": "code",
   "execution_count": null,
   "metadata": {
    "ExecuteTime": {
     "end_time": "2019-05-11T15:37:59.577781Z",
     "start_time": "2019-05-11T15:37:56.755347Z"
    },
    "deletable": false,
    "editable": false,
    "run_control": {
     "frozen": true
    }
   },
   "outputs": [],
   "source": [
    "# notebook fix\n",
    "# https://github.com/twintproject/twint/issues/166\n",
    "!pip3 install nest_asyncio"
   ]
  },
  {
   "cell_type": "code",
   "execution_count": null,
   "metadata": {
    "deletable": false,
    "editable": false,
    "run_control": {
     "frozen": true
    }
   },
   "outputs": [],
   "source": [
    "!pip3 install aiohttp-socks"
   ]
  },
  {
   "cell_type": "code",
   "execution_count": null,
   "metadata": {
    "ExecuteTime": {
     "end_time": "2019-05-11T20:53:27.221629Z",
     "start_time": "2019-05-11T20:53:26.510989Z"
    }
   },
   "outputs": [],
   "source": [
    "import pandas as pd\n",
    "import subprocess\n",
    "import progressbar\n",
    "import os\n",
    "import threading\n",
    "import queue\n",
    "import time\n",
    "import numpy as np"
   ]
  },
  {
   "cell_type": "code",
   "execution_count": null,
   "metadata": {
    "ExecuteTime": {
     "end_time": "2019-05-11T20:53:27.234529Z",
     "start_time": "2019-05-11T20:53:27.226073Z"
    }
   },
   "outputs": [],
   "source": [
    "blacklist = ['verified', 'tweetdeck']"
   ]
  },
  {
   "cell_type": "code",
   "execution_count": null,
   "metadata": {
    "ExecuteTime": {
     "end_time": "2019-05-11T21:23:23.317833Z",
     "start_time": "2019-05-11T21:23:23.149322Z"
    }
   },
   "outputs": [],
   "source": [
    "scrapedir = '../data'\n",
    "\n",
    "def scraped_users():\n",
    "    return [i for i in os.listdir(scrapedir) if i.endswith('.txt') ]\n",
    "\n",
    "def followingfile(user):\n",
    "    return os.path.join(scrapedir, user+'.txt')\n",
    "\n",
    "def scrape(user):\n",
    "    file = followingfile(user)\n",
    "    if user in blacklist:\n",
    "        return\n",
    "    if not os.path.isfile(file):\n",
    "        print('scraping ' + user)\n",
    "        cmd = 'twint -u {0} --following'.format(user, file).split(' ')\n",
    "        with open(file, 'w') as file_write:\n",
    "            subprocess.run(cmd, stdout=file_write)\n",
    "\n",
    "def following(user):\n",
    "    if user not in scraped_users():\n",
    "        scrape(user)\n",
    "    fs = pd.read_csv(followingfile(user)).values.flatten()\n",
    "    return np.sort(fs)"
   ]
  },
  {
   "cell_type": "code",
   "execution_count": null,
   "metadata": {
    "ExecuteTime": {
     "end_time": "2019-05-11T21:23:23.431933Z",
     "start_time": "2019-05-11T21:23:23.399843Z"
    },
    "scrolled": true
   },
   "outputs": [],
   "source": [
    "def scrape_worker():\n",
    "    while True:\n",
    "        user = q.get()\n",
    "        if user is None:\n",
    "            break\n",
    "        scrape(user)\n",
    "        q.task_done()\n",
    "\n",
    "n_worker = 10\n",
    "q = queue.Queue()\n",
    "threads = [threading.Thread(target=scrape_worker).start() for _ in range(n_worker)]\n"
   ]
  },
  {
   "cell_type": "markdown",
   "metadata": {
    "ExecuteTime": {
     "end_time": "2019-05-11T18:57:15.478078Z",
     "start_time": "2019-05-11T18:57:15.449681Z"
    }
   },
   "source": [
    "# block until all tasks are done\n",
    "names_left = q.qsize()\n",
    "while names_left > 0:\n",
    "    time.sleep(1)\n",
    "    names_left_new = q.qsize()\n",
    "    if names_left_new != names_left:\n",
    "        names_left = names_left_new\n",
    "        print(names_left_new)\n",
    "q.join()\n",
    "\n",
    "\n",
    "# stop workers\n",
    "for i in range(n_worker):\n",
    "    q.put(None)\n",
    "for t in threads:\n",
    "    t.join()"
   ]
  },
  {
   "cell_type": "markdown",
   "metadata": {
    "ExecuteTime": {
     "end_time": "2019-05-11T20:29:25.204448Z",
     "start_time": "2019-05-11T20:29:17.474431Z"
    }
   },
   "source": [
    "!twint -u twitter --following > ../data/twitter.txt"
   ]
  },
  {
   "cell_type": "code",
   "execution_count": null,
   "metadata": {
    "ExecuteTime": {
     "end_time": "2019-05-11T21:23:31.640794Z",
     "start_time": "2019-05-11T21:23:24.087723Z"
    }
   },
   "outputs": [],
   "source": [
    "scrape('twitter')"
   ]
  },
  {
   "cell_type": "code",
   "execution_count": null,
   "metadata": {
    "ExecuteTime": {
     "end_time": "2019-05-11T21:26:13.415575Z",
     "start_time": "2019-05-11T21:26:13.384965Z"
    }
   },
   "outputs": [],
   "source": [
    "def walk_path(path, maxlength=10):\n",
    "    if len(path) < maxlength:\n",
    "        current = path[-1]\n",
    "        fs = following(current)\n",
    "        if len(fs) == 0:\n",
    "            return path\n",
    "        next_step = np.random.choice(fs)\n",
    "        path = walk_path(path + [next_step], maxlength)\n",
    "    return path"
   ]
  },
  {
   "cell_type": "code",
   "execution_count": null,
   "metadata": {
    "ExecuteTime": {
     "end_time": "2019-05-11T21:34:01.254137Z",
     "start_time": "2019-05-11T21:32:04.617338Z"
    }
   },
   "outputs": [],
   "source": [
    "walk_path(['elonmusk'])"
   ]
  },
  {
   "cell_type": "code",
   "execution_count": null,
   "metadata": {
    "ExecuteTime": {
     "end_time": "2019-05-11T21:23:48.925672Z",
     "start_time": "2019-05-11T21:23:48.496901Z"
    }
   },
   "outputs": [],
   "source": [
    "from multiprocessing import Pool\n",
    "\n",
    "def f(x):\n",
    "    return x*x\n",
    "\n",
    "if __name__ == '__main__':\n",
    "    p = Pool(4)\n",
    "    result = p.map(walk_path, [['elonmusk']]*4)"
   ]
  },
  {
   "cell_type": "code",
   "execution_count": null,
   "metadata": {
    "ExecuteTime": {
     "end_time": "2019-05-11T21:23:50.424321Z",
     "start_time": "2019-05-11T21:23:50.411125Z"
    }
   },
   "outputs": [],
   "source": [
    "result"
   ]
  },
  {
   "cell_type": "code",
   "execution_count": null,
   "metadata": {
    "ExecuteTime": {
     "end_time": "2019-05-11T21:04:58.060952Z",
     "start_time": "2019-05-11T21:04:57.992387Z"
    }
   },
   "outputs": [],
   "source": [
    "['elonmusk']*10"
   ]
  },
  {
   "cell_type": "code",
   "execution_count": null,
   "metadata": {
    "ExecuteTime": {
     "end_time": "2019-05-11T21:04:21.733736Z",
     "start_time": "2019-05-11T21:04:21.708209Z"
    }
   },
   "outputs": [],
   "source": [
    "['elonmusk']*10"
   ]
  },
  {
   "cell_type": "code",
   "execution_count": null,
   "metadata": {
    "ExecuteTime": {
     "end_time": "2019-05-11T20:59:00.303557Z",
     "start_time": "2019-05-11T20:58:03.245Z"
    }
   },
   "outputs": [],
   "source": [
    "walk_path(['twitter'], 3)"
   ]
  },
  {
   "cell_type": "code",
   "execution_count": null,
   "metadata": {
    "ExecuteTime": {
     "end_time": "2019-05-11T20:59:00.307169Z",
     "start_time": "2019-05-11T20:58:06.341Z"
    }
   },
   "outputs": [],
   "source": [
    "walk_path(['twitter'], 3)"
   ]
  },
  {
   "cell_type": "code",
   "execution_count": null,
   "metadata": {
    "ExecuteTime": {
     "end_time": "2019-05-11T20:59:00.310060Z",
     "start_time": "2019-05-11T20:58:08.661Z"
    }
   },
   "outputs": [],
   "source": [
    "walk_path(['twitter'], 3)"
   ]
  },
  {
   "cell_type": "code",
   "execution_count": null,
   "metadata": {
    "ExecuteTime": {
     "end_time": "2019-05-11T20:59:00.312408Z",
     "start_time": "2019-05-11T20:58:10.130Z"
    }
   },
   "outputs": [],
   "source": [
    "walk_path(['twitter'], 3)"
   ]
  },
  {
   "cell_type": "code",
   "execution_count": null,
   "metadata": {
    "ExecuteTime": {
     "end_time": "2019-05-11T20:59:00.314459Z",
     "start_time": "2019-05-11T20:58:11.821Z"
    }
   },
   "outputs": [],
   "source": [
    "walk_path(['twitter'], 3)"
   ]
  },
  {
   "cell_type": "code",
   "execution_count": null,
   "metadata": {
    "ExecuteTime": {
     "end_time": "2019-05-11T20:59:00.317137Z",
     "start_time": "2019-05-11T20:58:13.966Z"
    }
   },
   "outputs": [],
   "source": [
    "walk_path(['twitter'], 3)"
   ]
  },
  {
   "cell_type": "code",
   "execution_count": null,
   "metadata": {
    "ExecuteTime": {
     "end_time": "2019-05-11T20:59:00.339491Z",
     "start_time": "2019-05-11T20:58:15.499Z"
    }
   },
   "outputs": [],
   "source": [
    "walk_path(['twitter'], 3)"
   ]
  },
  {
   "cell_type": "code",
   "execution_count": null,
   "metadata": {
    "ExecuteTime": {
     "end_time": "2019-05-11T20:59:00.347739Z",
     "start_time": "2019-05-11T20:58:17.743Z"
    }
   },
   "outputs": [],
   "source": [
    "walk_path(['twitter'], 3)"
   ]
  },
  {
   "cell_type": "code",
   "execution_count": null,
   "metadata": {
    "ExecuteTime": {
     "end_time": "2019-05-11T20:48:35.236612Z",
     "start_time": "2019-05-11T20:48:35.203653Z"
    },
    "scrolled": true
   },
   "outputs": [],
   "source": [
    "fs = following('twitter')\n",
    "fs"
   ]
  },
  {
   "cell_type": "code",
   "execution_count": null,
   "metadata": {
    "ExecuteTime": {
     "end_time": "2019-05-11T20:38:07.466854Z",
     "start_time": "2019-05-11T20:38:07.373586Z"
    }
   },
   "outputs": [],
   "source": [
    "q.qsize()"
   ]
  },
  {
   "cell_type": "code",
   "execution_count": null,
   "metadata": {
    "ExecuteTime": {
     "end_time": "2019-05-11T20:38:19.569381Z",
     "start_time": "2019-05-11T20:38:19.497555Z"
    }
   },
   "outputs": [],
   "source": [
    "for name in fs:\n",
    "    q.put(name)"
   ]
  },
  {
   "cell_type": "code",
   "execution_count": null,
   "metadata": {
    "ExecuteTime": {
     "end_time": "2019-05-11T20:16:41.871854Z",
     "start_time": "2019-05-11T20:16:38.643748Z"
    }
   },
   "outputs": [],
   "source": [
    "for name in following(fs[0]):\n",
    "    q.put(name)"
   ]
  },
  {
   "cell_type": "code",
   "execution_count": null,
   "metadata": {
    "ExecuteTime": {
     "end_time": "2019-05-11T18:57:44.550132Z",
     "start_time": "2019-05-11T18:57:43.842366Z"
    }
   },
   "outputs": [],
   "source": [
    "import networkx as nx\n",
    "\n",
    "G = nx.Graph()\n",
    "\n",
    "user\n",
    "\n",
    "G.add_nodes_from(*scraped_users()) # multi add\n",
    "\n",
    "\n",
    "# edge add\n",
    "G.add_edge(1, 2)"
   ]
  }
 ],
 "metadata": {
  "kernelspec": {
   "display_name": "Python 3",
   "language": "python",
   "name": "python3"
  },
  "language_info": {
   "codemirror_mode": {
    "name": "ipython",
    "version": 3
   },
   "file_extension": ".py",
   "mimetype": "text/x-python",
   "name": "python",
   "nbconvert_exporter": "python",
   "pygments_lexer": "ipython3",
   "version": "3.6.7"
  }
 },
 "nbformat": 4,
 "nbformat_minor": 2
}
