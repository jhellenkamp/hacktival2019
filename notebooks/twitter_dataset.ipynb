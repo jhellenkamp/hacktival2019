{
 "cells": [
  {
   "cell_type": "code",
   "execution_count": 1,
   "metadata": {
    "ExecuteTime": {
     "end_time": "2019-05-12T01:44:22.185420Z",
     "start_time": "2019-05-12T01:44:20.733800Z"
    }
   },
   "outputs": [],
   "source": [
    "import numpy as np\n",
    "import pandas as pd\n",
    "import pickle\n",
    "import progressbar"
   ]
  },
  {
   "cell_type": "code",
   "execution_count": null,
   "metadata": {
    "ExecuteTime": {
     "end_time": "2019-05-11T22:05:36.537830Z",
     "start_time": "2019-05-11T22:05:35.894430Z"
    },
    "deletable": false,
    "editable": false,
    "run_control": {
     "frozen": true
    }
   },
   "outputs": [],
   "source": [
    "!head ../data/u_id.tsv"
   ]
  },
  {
   "cell_type": "code",
   "execution_count": null,
   "metadata": {
    "ExecuteTime": {
     "end_time": "2019-05-11T21:47:57.252747Z",
     "start_time": "2019-05-11T21:47:56.646536Z"
    },
    "deletable": false,
    "editable": false,
    "run_control": {
     "frozen": true
    }
   },
   "outputs": [],
   "source": [
    "!head ../data/l_followers.tsv"
   ]
  },
  {
   "cell_type": "code",
   "execution_count": 2,
   "metadata": {
    "ExecuteTime": {
     "end_time": "2019-05-12T01:44:22.216610Z",
     "start_time": "2019-05-12T01:44:22.192971Z"
    }
   },
   "outputs": [],
   "source": [
    "uidf = '../data/u_id.tsv'\n",
    "follf = '../data/l_friends.tsv'"
   ]
  },
  {
   "cell_type": "code",
   "execution_count": 3,
   "metadata": {
    "ExecuteTime": {
     "end_time": "2019-05-12T01:44:22.293753Z",
     "start_time": "2019-05-12T01:44:22.220533Z"
    }
   },
   "outputs": [],
   "source": [
    "def read_uids():\n",
    "    fp = open(uidf)\n",
    "    uids = []\n",
    "    for i, line in progressbar.progressbar(enumerate(fp)):\n",
    "        if line != '\\n':\n",
    "            uids.append(int(line))\n",
    "    fp.close()\n",
    "    return np.array(uids)"
   ]
  },
  {
   "cell_type": "code",
   "execution_count": null,
   "metadata": {
    "ExecuteTime": {
     "end_time": "2019-05-12T00:33:02.378063Z",
     "start_time": "2019-05-12T00:32:59.275544Z"
    },
    "deletable": false,
    "editable": false,
    "run_control": {
     "frozen": true
    }
   },
   "outputs": [],
   "source": [
    "uids = read_uids()\n",
    "suids = pd.Series(uids)"
   ]
  },
  {
   "cell_type": "code",
   "execution_count": 4,
   "metadata": {
    "ExecuteTime": {
     "end_time": "2019-05-12T01:44:22.337070Z",
     "start_time": "2019-05-12T01:44:22.306911Z"
    }
   },
   "outputs": [],
   "source": [
    "def uididx(uid):\n",
    "    if not (suids==uid).any():\n",
    "        return None\n",
    "    return suids[suids==uid].index[0]"
   ]
  },
  {
   "cell_type": "code",
   "execution_count": 5,
   "metadata": {
    "ExecuteTime": {
     "end_time": "2019-05-12T01:44:22.361871Z",
     "start_time": "2019-05-12T01:44:22.350428Z"
    }
   },
   "outputs": [],
   "source": [
    "chunksize = 1000\n",
    "chunk_folder = '../data/chunks/'"
   ]
  },
  {
   "cell_type": "code",
   "execution_count": 9,
   "metadata": {
    "ExecuteTime": {
     "end_time": "2019-05-12T00:28:41.879973Z",
     "start_time": "2019-05-12T00:28:41.565903Z"
    },
    "deletable": false,
    "editable": false,
    "run_control": {
     "frozen": true
    }
   },
   "outputs": [],
   "source": [
    "pickle.dump(suids, open(chunk_folder + 'UIDS.pck', 'wb'))"
   ]
  },
  {
   "cell_type": "code",
   "execution_count": 6,
   "metadata": {
    "ExecuteTime": {
     "end_time": "2019-05-12T01:44:22.978382Z",
     "start_time": "2019-05-12T01:44:22.401359Z"
    }
   },
   "outputs": [],
   "source": [
    "suids = pickle.load(open(chunk_folder + 'UIDS.pck', 'rb'))"
   ]
  },
  {
   "cell_type": "code",
   "execution_count": null,
   "metadata": {
    "deletable": false,
    "editable": false,
    "run_control": {
     "frozen": true
    }
   },
   "outputs": [],
   "source": [
    "lens = []\n",
    "for i in progressbar.progressbar(range(1587616)):\n",
    "    lens.append(len(read_followings(i)))\n",
    "slens = pd.Series(lens)\n"
   ]
  },
  {
   "cell_type": "code",
   "execution_count": 28,
   "metadata": {
    "ExecuteTime": {
     "end_time": "2019-05-12T01:50:36.340911Z",
     "start_time": "2019-05-12T01:50:35.786658Z"
    },
    "deletable": false,
    "editable": false,
    "run_control": {
     "frozen": true
    }
   },
   "outputs": [],
   "source": [
    "pickle.dump(slens, open(chunk_folder + 'SLENS.pck', 'wb'))"
   ]
  },
  {
   "cell_type": "code",
   "execution_count": 30,
   "metadata": {
    "ExecuteTime": {
     "end_time": "2019-05-12T01:51:10.997823Z",
     "start_time": "2019-05-12T01:51:10.793825Z"
    }
   },
   "outputs": [],
   "source": [
    "slens = pickle.load(open(chunk_folder + 'SLENS.pck', 'rb'))"
   ]
  },
  {
   "cell_type": "code",
   "execution_count": 48,
   "metadata": {
    "ExecuteTime": {
     "end_time": "2019-05-12T01:53:07.787255Z",
     "start_time": "2019-05-12T01:53:07.688714Z"
    }
   },
   "outputs": [
    {
     "data": {
      "text/plain": [
       "683937"
      ]
     },
     "execution_count": 48,
     "metadata": {},
     "output_type": "execute_result"
    }
   ],
   "source": [
    "blacklist = slens[slens > 100].index\n",
    "len(blacklist)"
   ]
  },
  {
   "cell_type": "code",
   "execution_count": 10,
   "metadata": {
    "ExecuteTime": {
     "end_time": "2019-05-12T00:13:14.799247Z",
     "start_time": "2019-05-11T23:58:40.626302Z"
    },
    "deletable": false,
    "editable": false,
    "run_control": {
     "frozen": true
    }
   },
   "outputs": [
    {
     "name": "stderr",
     "output_type": "stream",
     "text": [
      "| |        #                                    | 1587617 Elapsed Time: 0:14:33\n"
     ]
    }
   ],
   "source": [
    "fp = open(follf)\n",
    "chunk = []\n",
    "for i, line in progressbar.progressbar(enumerate(fp)):\n",
    "    if line != '\\n':\n",
    "        chunk.append(np.array(line.split(',')).astype(int))\n",
    "    else:\n",
    "        chunk.append(np.array([]))\n",
    "    #if len(chunk[-1]) > 0 and chunk[-1][0] == 2586398862:\n",
    "    #    print('here', i)\n",
    "    if i > 0 and len(chunk) == chunksize:\n",
    "        fileidx = i // chunksize\n",
    "        pickle.dump(chunk, open(chunk_folder + 'friends_' + str(fileidx) + '.pck', 'wb'))\n",
    "        chunk = []\n",
    "        \n",
    "fileidx = (i // chunksize) + 1\n",
    "pickle.dump(chunk, open(chunk_folder + 'friends_' + str(fileidx) + '.pck', 'wb'))\n",
    "\n",
    "fp.close()"
   ]
  },
  {
   "cell_type": "code",
   "execution_count": 49,
   "metadata": {
    "ExecuteTime": {
     "end_time": "2019-05-12T01:53:09.763656Z",
     "start_time": "2019-05-12T01:53:09.748705Z"
    }
   },
   "outputs": [],
   "source": [
    "#1587617"
   ]
  },
  {
   "cell_type": "code",
   "execution_count": 50,
   "metadata": {
    "ExecuteTime": {
     "end_time": "2019-05-12T01:53:10.023201Z",
     "start_time": "2019-05-12T01:53:09.964538Z"
    }
   },
   "outputs": [],
   "source": [
    "from functools import lru_cache\n",
    "\n",
    "@lru_cache(maxsize=32)\n",
    "def get_chunkfile(file):\n",
    "    return pickle.load(open(file, 'rb'))"
   ]
  },
  {
   "cell_type": "code",
   "execution_count": 51,
   "metadata": {
    "ExecuteTime": {
     "end_time": "2019-05-12T01:53:10.264948Z",
     "start_time": "2019-05-12T01:53:10.254828Z"
    }
   },
   "outputs": [],
   "source": [
    "def read_followings(idx):\n",
    "    if idx == None or idx in blacklist:\n",
    "        return np.array([])\n",
    "    fileidx = (idx // chunksize)\n",
    "    infileidx = idx - ((fileidx) * chunksize)\n",
    "    file = chunk_folder + 'friends_' + str(fileidx) + '.pck'\n",
    "    chunk = get_chunkfile(file)\n",
    "    return chunk[infileidx]"
   ]
  },
  {
   "cell_type": "code",
   "execution_count": 52,
   "metadata": {
    "ExecuteTime": {
     "end_time": "2019-05-12T01:53:10.556725Z",
     "start_time": "2019-05-12T01:53:10.539661Z"
    }
   },
   "outputs": [],
   "source": [
    "def read_followings_slow(idx):\n",
    "    fp = open(follf)\n",
    "    for i, line in enumerate(fp):\n",
    "        if i == idx:\n",
    "            if line == '\\n':\n",
    "                friends =  np.array([])\n",
    "            else:\n",
    "                friends = np.array(line.split(',')).astype(int)\n",
    "            fp.close()\n",
    "            return friends"
   ]
  },
  {
   "cell_type": "markdown",
   "metadata": {
    "ExecuteTime": {
     "end_time": "2019-05-12T01:53:11.070389Z",
     "start_time": "2019-05-12T01:53:10.805491Z"
    }
   },
   "source": [
    "i = 200\n",
    "f2 = read_followings_slow(i)\n",
    "f1 = read_followings(i) \n",
    "(f1==f2).all()"
   ]
  },
  {
   "cell_type": "code",
   "execution_count": 56,
   "metadata": {
    "ExecuteTime": {
     "end_time": "2019-05-12T01:53:21.230090Z",
     "start_time": "2019-05-12T01:53:21.217191Z"
    }
   },
   "outputs": [
    {
     "name": "stdout",
     "output_type": "stream",
     "text": [
      "8\n"
     ]
    }
   ],
   "source": [
    "for i in range(1000):\n",
    "    fls = read_followings(i)\n",
    "    if len(fls) > 50  and len(fls) < 150:\n",
    "        print(i)\n",
    "        break"
   ]
  },
  {
   "cell_type": "code",
   "execution_count": 57,
   "metadata": {
    "ExecuteTime": {
     "end_time": "2019-05-12T01:53:22.292125Z",
     "start_time": "2019-05-12T01:53:22.274559Z"
    }
   },
   "outputs": [],
   "source": [
    "import networkx as nx\n",
    "import itertools"
   ]
  },
  {
   "cell_type": "code",
   "execution_count": 58,
   "metadata": {
    "ExecuteTime": {
     "end_time": "2019-05-12T01:53:22.523891Z",
     "start_time": "2019-05-12T01:53:22.512009Z"
    }
   },
   "outputs": [],
   "source": [
    "def recurse_fls(curuid, depth=0, maxdepth=2):\n",
    "    idx = uididx(curuid)\n",
    "    fls = read_followings(idx)\n",
    "    add_to_graph(G, curuid, fls, distance=depth)\n",
    "    if depth+1 < maxdepth:\n",
    "        for uid in fls:\n",
    "            recurse_fls(uid, depth+1, maxdepth)        "
   ]
  },
  {
   "cell_type": "code",
   "execution_count": 59,
   "metadata": {
    "ExecuteTime": {
     "end_time": "2019-05-12T01:53:22.662152Z",
     "start_time": "2019-05-12T01:53:22.642794Z"
    }
   },
   "outputs": [],
   "source": [
    "def add_to_graph(G, uid, fls, **kwargs):\n",
    "    G.add_nodes_from(fls.tolist(), **kwargs)\n",
    "    G.add_edges_from(zip(itertools.cycle([int(uid)]), fls.tolist()))"
   ]
  },
  {
   "cell_type": "code",
   "execution_count": 78,
   "metadata": {
    "ExecuteTime": {
     "end_time": "2019-05-12T02:05:45.293818Z",
     "start_time": "2019-05-12T02:04:55.620200Z"
    }
   },
   "outputs": [],
   "source": [
    "G = nx.Graph()\n",
    "recurse_fls(suids[19], maxdepth=5)"
   ]
  },
  {
   "cell_type": "code",
   "execution_count": 79,
   "metadata": {
    "ExecuteTime": {
     "end_time": "2019-05-12T02:05:45.396528Z",
     "start_time": "2019-05-12T02:05:45.316728Z"
    }
   },
   "outputs": [],
   "source": [
    "nx.set_node_attributes(G, 2.5, 'x')\n",
    "nx.set_node_attributes(G, 2.5, 'y')\n",
    "nx.set_node_attributes(G, '-', 'name')"
   ]
  },
  {
   "cell_type": "code",
   "execution_count": 80,
   "metadata": {
    "ExecuteTime": {
     "end_time": "2019-05-12T02:05:45.510546Z",
     "start_time": "2019-05-12T02:05:45.423571Z"
    }
   },
   "outputs": [],
   "source": [
    "jsongraph = nx.node_link_data(G)"
   ]
  },
  {
   "cell_type": "code",
   "execution_count": 82,
   "metadata": {
    "ExecuteTime": {
     "end_time": "2019-05-12T02:11:47.159038Z",
     "start_time": "2019-05-12T02:11:47.142928Z"
    }
   },
   "outputs": [
    {
     "data": {
      "text/plain": [
       "2857"
      ]
     },
     "execution_count": 82,
     "metadata": {},
     "output_type": "execute_result"
    }
   ],
   "source": [
    "len(jsongraph['nodes'])"
   ]
  },
  {
   "cell_type": "code",
   "execution_count": 83,
   "metadata": {
    "ExecuteTime": {
     "end_time": "2019-05-12T02:11:47.828084Z",
     "start_time": "2019-05-12T02:11:47.819397Z"
    }
   },
   "outputs": [],
   "source": [
    "import json"
   ]
  },
  {
   "cell_type": "code",
   "execution_count": 84,
   "metadata": {
    "ExecuteTime": {
     "end_time": "2019-05-12T02:11:47.989270Z",
     "start_time": "2019-05-12T02:11:47.981546Z"
    }
   },
   "outputs": [],
   "source": [
    "jsongraph['_comment_data_source'] = 'https://zenodo.org/record/1135171#.XNc_4aZCR25'"
   ]
  },
  {
   "cell_type": "code",
   "execution_count": 85,
   "metadata": {
    "ExecuteTime": {
     "end_time": "2019-05-12T02:11:48.212968Z",
     "start_time": "2019-05-12T02:11:48.204965Z"
    }
   },
   "outputs": [],
   "source": [
    "from networkx.readwrite import json_graph"
   ]
  },
  {
   "cell_type": "code",
   "execution_count": 86,
   "metadata": {
    "ExecuteTime": {
     "end_time": "2019-05-12T02:11:48.413368Z",
     "start_time": "2019-05-12T02:11:48.377808Z"
    }
   },
   "outputs": [],
   "source": [
    "mapping = dict()\n",
    "nodes = jsongraph['nodes']\n",
    "for i in range(len(nodes)):\n",
    "    mapping[nodes[i]['id']] = i\n",
    "\n",
    "for link in jsongraph['links']:\n",
    "    link['source'] = mapping[link['source']]\n",
    "    link['target'] = mapping[link['target']]"
   ]
  },
  {
   "cell_type": "code",
   "execution_count": 87,
   "metadata": {
    "ExecuteTime": {
     "end_time": "2019-05-12T02:11:49.277523Z",
     "start_time": "2019-05-12T02:11:49.183337Z"
    }
   },
   "outputs": [],
   "source": [
    "with open('../hacktival2019/webapp/js/graph.json', 'w') as outfile:\n",
    "    outfile.write(json.dumps(jsongraph))"
   ]
  },
  {
   "cell_type": "code",
   "execution_count": null,
   "metadata": {
    "ExecuteTime": {
     "end_time": "2019-05-12T02:11:50.584883Z",
     "start_time": "2019-05-12T02:11:50.280279Z"
    }
   },
   "outputs": [],
   "source": [
    "jsongraph"
   ]
  },
  {
   "cell_type": "code",
   "execution_count": 89,
   "metadata": {
    "ExecuteTime": {
     "end_time": "2019-05-12T02:11:50.599140Z",
     "start_time": "2019-05-12T02:11:50.592403Z"
    }
   },
   "outputs": [],
   "source": [
    "#for node in jsongraph['nodes']:\n",
    "#    print(node['distance'])\n",
    "    #print(link)"
   ]
  },
  {
   "cell_type": "code",
   "execution_count": null,
   "metadata": {},
   "outputs": [],
   "source": []
  },
  {
   "cell_type": "markdown",
   "metadata": {
    "ExecuteTime": {
     "end_time": "2019-05-12T01:54:59.967564Z",
     "start_time": "2019-05-12T01:54:44.857436Z"
    }
   },
   "source": [
    "nx.draw_networkx(G)"
   ]
  },
  {
   "cell_type": "code",
   "execution_count": null,
   "metadata": {},
   "outputs": [],
   "source": []
  }
 ],
 "metadata": {
  "kernelspec": {
   "display_name": "Python 3",
   "language": "python",
   "name": "python3"
  },
  "language_info": {
   "codemirror_mode": {
    "name": "ipython",
    "version": 3
   },
   "file_extension": ".py",
   "mimetype": "text/x-python",
   "name": "python",
   "nbconvert_exporter": "python",
   "pygments_lexer": "ipython3",
   "version": "3.6.7"
  }
 },
 "nbformat": 4,
 "nbformat_minor": 2
}
